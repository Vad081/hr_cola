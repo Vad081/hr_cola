{
 "cells": [
  {
   "cell_type": "code",
   "execution_count": null,
   "metadata": {},
   "outputs": [],
   "source": [
    "import pandas as pd\n",
    "import numpy as np"
   ]
  },
  {
   "cell_type": "code",
   "execution_count": null,
   "metadata": {},
   "outputs": [],
   "source": [
    "df = pd.read_excel('SW.xlsx',sheet_name='Budget')"
   ]
  },
  {
   "cell_type": "markdown",
   "metadata": {},
   "source": [
    "### Расчеты до изменений "
   ]
  },
  {
   "cell_type": "code",
   "execution_count": null,
   "metadata": {},
   "outputs": [],
   "source": [
    "# первоначальный расчет до изменений\n",
    "df['salary'] = df['Base_monthly_salary'] * 5 # зп до натбавки\n",
    "df['salary'] = df['salary'] + (df['Base_monthly_salary']*(1 + df['salary_increase_1Jun'])) * 7 # зп после прибавки в июне\n",
    "df['bonus'] = df['salary'] * df['bonus_year']\n",
    "df['spec_bonus'] = df['salary'] * df['specific_bonus_year']\n",
    "df['salary_per_day'] = round(df['salary'] / 248,2)\n",
    "df['vacation_balance'] = df['salary_per_day'] * df['End_vacation']\n",
    "df['All_budget'] = df['salary'] + df['bonus'] + df['spec_bonus'] + df['vacation_balance'] + (df['car_month']*12) + df['Med_year']"
   ]
  },
  {
   "cell_type": "markdown",
   "metadata": {},
   "source": [
    "### Расчет с учетом изменений "
   ]
  },
  {
   "cell_type": "markdown",
   "metadata": {},
   "source": [
    "#### 2. New contract with Insurance company assumes annual cost decline for grades 2 and 5 Operations and Marketing by 30% and cost increase for all Central jobs by 15%. For the rest, no change in insurance cost.Changes apply since 1 September"
   ]
  },
  {
   "cell_type": "code",
   "execution_count": null,
   "metadata": {},
   "outputs": [],
   "source": [
    "df['Med_year'] = np.where((df['Job_grade'] == 2) & (df['Function'] == \"Operations\"),((df['Med_year']/12)*8 + ((df['Med_year']*0.7)/12)*4),df['Med_year'])\n",
    "df['Med_year'] = np.where((df['Job_grade'] == 2) & (df['Function'] == \"Marketing\"),((df['Med_year']/12)*8 + ((df['Med_year']*0.7)/12)*4),df['Med_year'])\n",
    "df['Med_year'] = np.where((df['Job_grade'] == 5) & (df['Function'] == \"Operations\"),((df['Med_year']/12)*8 + ((df['Med_year']*0.7)/12)*4),df['Med_year'])\n",
    "df['Med_year'] = np.where((df['Job_grade'] == 5) & (df['Function'] == \"Marketing\"),((df['Med_year']/12)*8 + ((df['Med_year']*0.7)/12)*4),df['Med_year'])\n",
    "df['Med_year'] = np.where((df['Function'] == \"Central\"),((df['Med_year']/12)*8 + ((df['Med_year']*1.15)/12)*4), df['Med_year'])"
   ]
  },
  {
   "cell_type": "markdown",
   "metadata": {},
   "source": [
    "#### 3. Year End vacation balance is expected to increase by 2 days for all employees in Marketing, while Central employees grade 8 will reduce theirs by half.For the rest, no change vacation balance"
   ]
  },
  {
   "cell_type": "code",
   "execution_count": null,
   "metadata": {},
   "outputs": [],
   "source": [
    "df['End_vacation'] = np.where((df['Function'] == \"Marketing\"),df['End_vacation']+2, df['End_vacation'])\n",
    "df['End_vacation'] = np.where((df['Function'] == \"Central\"),df['End_vacation']/2,df['End_vacation'])"
   ]
  },
  {
   "cell_type": "markdown",
   "metadata": {},
   "source": [
    "#### 4. To stay competitive in terms of pay, additional salary increase was introduced in October. 5% for grades 2,4 and 2% the rest"
   ]
  },
  {
   "cell_type": "code",
   "execution_count": null,
   "metadata": {},
   "outputs": [],
   "source": [
    "\n",
    "df['salary'] = df['Base_monthly_salary'] * 5 # зп до натбавки\n",
    "\n",
    "df['Base_monthly_salary'] = (df['Base_monthly_salary']*(1 + df['salary_increase_1Jun']))\n",
    "df['salary'] = df['salary'] + (df['Base_monthly_salary']* 7) # зп после прибав\n"
   ]
  },
  {
   "cell_type": "code",
   "execution_count": null,
   "metadata": {},
   "outputs": [],
   "source": [
    "# прибавка salary с октября \n",
    "df['Base_monthly_salary'] = np.where(((df['Job_grade'] == 2) | (df['Job_grade'] == 4)),df['Base_monthly_salary']*1.05,df['Base_monthly_salary']*1.02)"
   ]
  },
  {
   "cell_type": "code",
   "execution_count": null,
   "metadata": {},
   "outputs": [],
   "source": [
    "# изменение salary с учетеом прибавки\n",
    "df['salary'] += np.where(((df['Job_grade'] == 2) | (df['Job_grade'] == 4)),(df['Base_monthly_salary']-(df['Base_monthly_salary']/1.05))*3, \\\n",
    "                                                                           (df['Base_monthly_salary']-(df['Base_monthly_salary']/1.02))*3)"
   ]
  },
  {
   "cell_type": "markdown",
   "metadata": {},
   "source": [
    "#### 5. Budget assumed no overtimes, however, due to production volume increase, Operations grades 2 and 4 worked 90 hours each on top.Standard working hours: 10 hours/day, 5 days a week. Overtimes are paid x2 stardard salary"
   ]
  },
  {
   "cell_type": "code",
   "execution_count": null,
   "metadata": {},
   "outputs": [],
   "source": [
    "#переработки (выплачиваются в конце года)\n",
    "df['overtime_payment'] = 0\n",
    "df['overtime_payment'] = np.where((df['Job_grade'] == 2) & (df['Function'] == \"Operations\"),round(((df['salary']/248)*2)*9,2),df['overtime_payment'])\n",
    "df['overtime_payment'] = np.where((df['Job_grade'] == 4) & (df['Function'] == \"Operations\"),round(((df['salary']/248)*2)*9,2),df['overtime_payment'])"
   ]
  },
  {
   "cell_type": "markdown",
   "metadata": {},
   "source": [
    "#### 6.Overall, company is expecting to deliver strong financial results, so company bonus will be higher by 50%"
   ]
  },
  {
   "cell_type": "code",
   "execution_count": null,
   "metadata": {},
   "outputs": [],
   "source": [
    "df['bonus_year'] = df['bonus_year']*1.5"
   ]
  },
  {
   "cell_type": "code",
   "execution_count": null,
   "metadata": {},
   "outputs": [],
   "source": [
    "df['bonus'] = df['salary'] * df['bonus_year']\n",
    "df['spec_bonus'] = df['salary'] * df['specific_bonus_year']\n",
    "df['salary_per_day'] = round(df['salary'] / 248,2)\n",
    "df['vacation_balance'] = df['salary_per_day'] * df['End_vacation']\n",
    "df['All_budget'] = df['salary'] + df['bonus'] + df['spec_bonus'] + df['vacation_balance'] + (df['car_month']*12) + df['Med_year']+df['overtime_payment']"
   ]
  },
  {
   "cell_type": "code",
   "execution_count": null,
   "metadata": {},
   "outputs": [],
   "source": [
    "df.to_excel('res.xlsx')"
   ]
  },
  {
   "cell_type": "code",
   "execution_count": null,
   "metadata": {},
   "outputs": [],
   "source": []
  }
 ],
 "metadata": {
  "kernelspec": {
   "display_name": "Python 3",
   "language": "python",
   "name": "python3"
  },
  "language_info": {
   "codemirror_mode": {
    "name": "ipython",
    "version": 3
   },
   "file_extension": ".py",
   "mimetype": "text/x-python",
   "name": "python",
   "nbconvert_exporter": "python",
   "pygments_lexer": "ipython3",
   "version": "3.7.6"
  }
 },
 "nbformat": 4,
 "nbformat_minor": 4
}
